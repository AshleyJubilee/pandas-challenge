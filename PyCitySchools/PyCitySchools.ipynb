{
 "cells": [
  {
   "cell_type": "markdown",
   "metadata": {},
   "source": [
    "# PyCity Schools Analysis\n",
    "\n",
    "- \n",
    "\n",
    "---"
   ]
  },
  {
   "cell_type": "code",
   "execution_count": 115,
   "metadata": {},
   "outputs": [],
   "source": [
    "# Initalize dependancies\n",
    "import pandas as pd\n",
    "from pathlib import Path\n",
    "\n",
    "school_data_path = Path(\"../Resources/schools_complete.csv\")\n",
    "student_data_path = Path(\"../Resources/students_complete.csv\")\n",
    "\n",
    "# Create and merge dataframes\n",
    "schoolData = pd.read_csv(school_data_path)\n",
    "studentData = pd.read_csv(student_data_path)\n",
    "\n",
    "completeData = pd.merge(studentData, schoolData, how=\"left\", on=[\"school_name\", \"school_name\"])\n",
    "completeData.head()\n"
   ]
  },
  {
   "cell_type": "code",
   "execution_count": 116,
   "metadata": {},
   "outputs": [
    {
     "data": {
      "text/plain": [
       "15"
      ]
     },
     "execution_count": 116,
     "metadata": {},
     "output_type": "execute_result"
    }
   ],
   "source": [
    "# Prints the length of the school data set\n",
    "schoolCount = len(schoolData)\n",
    "schoolCount"
   ]
  },
  {
   "cell_type": "code",
   "execution_count": 117,
   "metadata": {},
   "outputs": [
    {
     "data": {
      "text/plain": [
       "39170"
      ]
     },
     "execution_count": 117,
     "metadata": {},
     "output_type": "execute_result"
    }
   ],
   "source": [
    "# Prints the length of the student data set\n",
    "studentCount = len(studentData)\n",
    "studentCount"
   ]
  },
  {
   "cell_type": "code",
   "execution_count": 118,
   "metadata": {},
   "outputs": [
    {
     "data": {
      "text/plain": [
       "24649428"
      ]
     },
     "execution_count": 118,
     "metadata": {},
     "output_type": "execute_result"
    }
   ],
   "source": [
    "# Prints the sum of the budget column of the school data set\n",
    "totalBudget = schoolData[\"budget\"].sum()\n",
    "totalBudget"
   ]
  },
  {
   "cell_type": "code",
   "execution_count": 119,
   "metadata": {},
   "outputs": [
    {
     "data": {
      "text/plain": [
       "78.98537145774827"
      ]
     },
     "execution_count": 119,
     "metadata": {},
     "output_type": "execute_result"
    }
   ],
   "source": [
    "# Prints the mean of the math_score column\n",
    "averageMath = completeData[\"math_score\"].mean()\n",
    "averageMath"
   ]
  },
  {
   "cell_type": "code",
   "execution_count": 120,
   "metadata": {},
   "outputs": [
    {
     "data": {
      "text/plain": [
       "81.87784018381414"
      ]
     },
     "execution_count": 120,
     "metadata": {},
     "output_type": "execute_result"
    }
   ],
   "source": [
    "# Prints the mean of the reading_score column\n",
    "averageReading = completeData[\"reading_score\"].mean()\n",
    "averageReading"
   ]
  },
  {
   "cell_type": "code",
   "execution_count": 121,
   "metadata": {},
   "outputs": [
    {
     "data": {
      "text/plain": [
       "74.9808526933878"
      ]
     },
     "execution_count": 121,
     "metadata": {},
     "output_type": "execute_result"
    }
   ],
   "source": [
    "# Counts total students with math scores >= 70, then returns the percent of total\n",
    "passedMathTotal = completeData[(completeData[\"math_score\"] >= 70)].count()[\"student_name\"]\n",
    "passedMathPercent = passedMathTotal / float(studentCount) *  100\n",
    "passedMathPercent"
   ]
  },
  {
   "cell_type": "code",
   "execution_count": 122,
   "metadata": {},
   "outputs": [
    {
     "data": {
      "text/plain": [
       "85.80546336482001"
      ]
     },
     "execution_count": 122,
     "metadata": {},
     "output_type": "execute_result"
    }
   ],
   "source": [
    "# Counts students with reading scores >= 70, then returns the percent of total\n",
    "passedReadingTotal = completeData[(completeData[\"reading_score\"] >= 70)].count()[\"student_name\"]\n",
    "passedReadingPercent = passedReadingTotal / float(studentCount) *  100\n",
    "passedReadingPercent"
   ]
  },
  {
   "cell_type": "code",
   "execution_count": 123,
   "metadata": {},
   "outputs": [
    {
     "data": {
      "text/plain": [
       "65.17232575950983"
      ]
     },
     "execution_count": 123,
     "metadata": {},
     "output_type": "execute_result"
    }
   ],
   "source": [
    "# Counts students with passing reading and math scores, then returns the percent of total\n",
    "passedBothTotal = completeData[(completeData[\"math_score\"] >= 70) & \n",
    "                               (completeData[\"reading_score\"] >= 70)].count()[\"student_name\"]\n",
    "passedBothPercent = passedBothTotal / float(studentCount) * 100\n",
    "passedBothPercent"
   ]
  },
  {
   "cell_type": "code",
   "execution_count": 127,
   "metadata": {},
   "outputs": [
    {
     "data": {
      "text/html": [
       "<div>\n",
       "<style scoped>\n",
       "    .dataframe tbody tr th:only-of-type {\n",
       "        vertical-align: middle;\n",
       "    }\n",
       "\n",
       "    .dataframe tbody tr th {\n",
       "        vertical-align: top;\n",
       "    }\n",
       "\n",
       "    .dataframe thead th {\n",
       "        text-align: right;\n",
       "    }\n",
       "</style>\n",
       "<table border=\"1\" class=\"dataframe\">\n",
       "  <thead>\n",
       "    <tr style=\"text-align: right;\">\n",
       "      <th></th>\n",
       "      <th>Total Schools</th>\n",
       "      <th>Total Students</th>\n",
       "      <th>Total Budget</th>\n",
       "      <th>Average Math Score</th>\n",
       "      <th>Average Reading Score</th>\n",
       "      <th>% Passing Math</th>\n",
       "      <th>% Passed Reading</th>\n",
       "      <th>% Overall Passing</th>\n",
       "    </tr>\n",
       "  </thead>\n",
       "  <tbody>\n",
       "    <tr>\n",
       "      <th>0</th>\n",
       "      <td>15</td>\n",
       "      <td>39,170</td>\n",
       "      <td>$24,649,428.00</td>\n",
       "      <td>78.985371</td>\n",
       "      <td>81.87784</td>\n",
       "      <td>74.980853</td>\n",
       "      <td>85.805463</td>\n",
       "      <td>65.172326</td>\n",
       "    </tr>\n",
       "  </tbody>\n",
       "</table>\n",
       "</div>"
      ],
      "text/plain": [
       "   Total Schools Total Students    Total Budget  Average Math Score  \\\n",
       "0             15         39,170  $24,649,428.00           78.985371   \n",
       "\n",
       "   Average Reading Score  % Passing Math  % Passed Reading  % Overall Passing  \n",
       "0               81.87784       74.980853         85.805463          65.172326  "
      ]
     },
     "execution_count": 127,
     "metadata": {},
     "output_type": "execute_result"
    }
   ],
   "source": [
    "districtSummary = pd.DataFrame({\"Total Schools\": schoolCount, \"Total Students\": studentCount,\n",
    "                                \"Total Budget\": totalBudget, \"Average Math Score\": averageMath,\n",
    "                                \"Average Reading Score\": averageReading, \"% Passing Math\": passedMathPercent,\n",
    "                                \"% Passed Reading\": passedReadingPercent, \"% Overall Passing\": passedBothPercent}, index=[0])\n",
    "\n",
    "districtSummary[\"Total Students\"] = districtSummary[\"Total Students\"].map(\"{:,}\".format)\n",
    "districtSummary[\"Total Budget\"] = districtSummary[\"Total Budget\"].map(\"${:,.2f}\".format)\n",
    "\n",
    "districtSummary"
   ]
  }
 ],
 "metadata": {
  "kernelspec": {
   "display_name": "dev",
   "language": "python",
   "name": "python3"
  },
  "language_info": {
   "codemirror_mode": {
    "name": "ipython",
    "version": 3
   },
   "file_extension": ".py",
   "mimetype": "text/x-python",
   "name": "python",
   "nbconvert_exporter": "python",
   "pygments_lexer": "ipython3",
   "version": "3.11.5"
  }
 },
 "nbformat": 4,
 "nbformat_minor": 2
}
